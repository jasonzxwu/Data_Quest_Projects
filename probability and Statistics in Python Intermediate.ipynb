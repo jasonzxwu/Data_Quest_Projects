{
 "cells": [
  {
   "cell_type": "code",
   "execution_count": 1,
   "metadata": {},
   "outputs": [],
   "source": [
    "import pandas as pd\n",
    "import numpy as np\n",
    "import matplotlib.pyplot as plt"
   ]
  },
  {
   "cell_type": "code",
   "execution_count": 2,
   "metadata": {},
   "outputs": [],
   "source": [
    "flags = pd.read_csv('flags.csv')"
   ]
  },
  {
   "cell_type": "code",
   "execution_count": 3,
   "metadata": {},
   "outputs": [
    {
     "data": {
      "text/html": [
       "<div>\n",
       "<style scoped>\n",
       "    .dataframe tbody tr th:only-of-type {\n",
       "        vertical-align: middle;\n",
       "    }\n",
       "\n",
       "    .dataframe tbody tr th {\n",
       "        vertical-align: top;\n",
       "    }\n",
       "\n",
       "    .dataframe thead th {\n",
       "        text-align: right;\n",
       "    }\n",
       "</style>\n",
       "<table border=\"1\" class=\"dataframe\">\n",
       "  <thead>\n",
       "    <tr style=\"text-align: right;\">\n",
       "      <th></th>\n",
       "      <th>name</th>\n",
       "      <th>landmass</th>\n",
       "      <th>zone</th>\n",
       "      <th>area</th>\n",
       "      <th>population</th>\n",
       "      <th>language</th>\n",
       "      <th>religion</th>\n",
       "      <th>bars</th>\n",
       "      <th>stripes</th>\n",
       "      <th>colors</th>\n",
       "      <th>...</th>\n",
       "      <th>saltires</th>\n",
       "      <th>quarters</th>\n",
       "      <th>sunstars</th>\n",
       "      <th>crescent</th>\n",
       "      <th>triangle</th>\n",
       "      <th>icon</th>\n",
       "      <th>animate</th>\n",
       "      <th>text</th>\n",
       "      <th>topleft</th>\n",
       "      <th>botright</th>\n",
       "    </tr>\n",
       "  </thead>\n",
       "  <tbody>\n",
       "    <tr>\n",
       "      <th>0</th>\n",
       "      <td>Afghanistan</td>\n",
       "      <td>5</td>\n",
       "      <td>1</td>\n",
       "      <td>648</td>\n",
       "      <td>16</td>\n",
       "      <td>10</td>\n",
       "      <td>2</td>\n",
       "      <td>0</td>\n",
       "      <td>3</td>\n",
       "      <td>5</td>\n",
       "      <td>...</td>\n",
       "      <td>0</td>\n",
       "      <td>0</td>\n",
       "      <td>1</td>\n",
       "      <td>0</td>\n",
       "      <td>0</td>\n",
       "      <td>1</td>\n",
       "      <td>0</td>\n",
       "      <td>0</td>\n",
       "      <td>black</td>\n",
       "      <td>green</td>\n",
       "    </tr>\n",
       "    <tr>\n",
       "      <th>1</th>\n",
       "      <td>Albania</td>\n",
       "      <td>3</td>\n",
       "      <td>1</td>\n",
       "      <td>29</td>\n",
       "      <td>3</td>\n",
       "      <td>6</td>\n",
       "      <td>6</td>\n",
       "      <td>0</td>\n",
       "      <td>0</td>\n",
       "      <td>3</td>\n",
       "      <td>...</td>\n",
       "      <td>0</td>\n",
       "      <td>0</td>\n",
       "      <td>1</td>\n",
       "      <td>0</td>\n",
       "      <td>0</td>\n",
       "      <td>0</td>\n",
       "      <td>1</td>\n",
       "      <td>0</td>\n",
       "      <td>red</td>\n",
       "      <td>red</td>\n",
       "    </tr>\n",
       "    <tr>\n",
       "      <th>2</th>\n",
       "      <td>Algeria</td>\n",
       "      <td>4</td>\n",
       "      <td>1</td>\n",
       "      <td>2388</td>\n",
       "      <td>20</td>\n",
       "      <td>8</td>\n",
       "      <td>2</td>\n",
       "      <td>2</td>\n",
       "      <td>0</td>\n",
       "      <td>3</td>\n",
       "      <td>...</td>\n",
       "      <td>0</td>\n",
       "      <td>0</td>\n",
       "      <td>1</td>\n",
       "      <td>1</td>\n",
       "      <td>0</td>\n",
       "      <td>0</td>\n",
       "      <td>0</td>\n",
       "      <td>0</td>\n",
       "      <td>green</td>\n",
       "      <td>white</td>\n",
       "    </tr>\n",
       "    <tr>\n",
       "      <th>3</th>\n",
       "      <td>American-Samoa</td>\n",
       "      <td>6</td>\n",
       "      <td>3</td>\n",
       "      <td>0</td>\n",
       "      <td>0</td>\n",
       "      <td>1</td>\n",
       "      <td>1</td>\n",
       "      <td>0</td>\n",
       "      <td>0</td>\n",
       "      <td>5</td>\n",
       "      <td>...</td>\n",
       "      <td>0</td>\n",
       "      <td>0</td>\n",
       "      <td>0</td>\n",
       "      <td>0</td>\n",
       "      <td>1</td>\n",
       "      <td>1</td>\n",
       "      <td>1</td>\n",
       "      <td>0</td>\n",
       "      <td>blue</td>\n",
       "      <td>red</td>\n",
       "    </tr>\n",
       "    <tr>\n",
       "      <th>4</th>\n",
       "      <td>Andorra</td>\n",
       "      <td>3</td>\n",
       "      <td>1</td>\n",
       "      <td>0</td>\n",
       "      <td>0</td>\n",
       "      <td>6</td>\n",
       "      <td>0</td>\n",
       "      <td>3</td>\n",
       "      <td>0</td>\n",
       "      <td>3</td>\n",
       "      <td>...</td>\n",
       "      <td>0</td>\n",
       "      <td>0</td>\n",
       "      <td>0</td>\n",
       "      <td>0</td>\n",
       "      <td>0</td>\n",
       "      <td>0</td>\n",
       "      <td>0</td>\n",
       "      <td>0</td>\n",
       "      <td>blue</td>\n",
       "      <td>red</td>\n",
       "    </tr>\n",
       "  </tbody>\n",
       "</table>\n",
       "<p>5 rows × 30 columns</p>\n",
       "</div>"
      ],
      "text/plain": [
       "             name  landmass  zone  area  population  language  religion  bars  \\\n",
       "0     Afghanistan         5     1   648          16        10         2     0   \n",
       "1         Albania         3     1    29           3         6         6     0   \n",
       "2         Algeria         4     1  2388          20         8         2     2   \n",
       "3  American-Samoa         6     3     0           0         1         1     0   \n",
       "4         Andorra         3     1     0           0         6         0     3   \n",
       "\n",
       "   stripes  colors    ...     saltires  quarters  sunstars  crescent  \\\n",
       "0        3       5    ...            0         0         1         0   \n",
       "1        0       3    ...            0         0         1         0   \n",
       "2        0       3    ...            0         0         1         1   \n",
       "3        0       5    ...            0         0         0         0   \n",
       "4        0       3    ...            0         0         0         0   \n",
       "\n",
       "   triangle  icon  animate text  topleft  botright  \n",
       "0         0     1        0    0    black     green  \n",
       "1         0     0        1    0      red       red  \n",
       "2         0     0        0    0    green     white  \n",
       "3         1     1        1    0     blue       red  \n",
       "4         0     0        0    0     blue       red  \n",
       "\n",
       "[5 rows x 30 columns]"
      ]
     },
     "execution_count": 3,
     "metadata": {},
     "output_type": "execute_result"
    }
   ],
   "source": [
    "flags.head()"
   ]
  },
  {
   "cell_type": "markdown",
   "metadata": {},
   "source": [
    "Some relevant columns:\n",
    "\n",
    "    name -- name of the country\n",
    "    landmass -- which continent the country is in (1=N.America, 2=S.America, 3=Europe, 4=Africa, 4=Asia, 6=Oceania)\n",
    "    area -- country area, in thousands of square kilometers\n",
    "    population -- rounded to the nearest million\n",
    "    bars -- Number of vertical bars in the flag\n",
    "    stripes -- Number of horizontal stripes in the flag\n",
    "    colors -- Number of different colours in the flag\n",
    "    red, green, blue, gold, white, black, orange -- 0 if color absent, 1 if color present in the flag\n",
    "This data was collected from Collins Gem Guide to Flags. It was written in 1986, so some flag information may be out of date"
   ]
  },
  {
   "cell_type": "markdown",
   "metadata": {},
   "source": [
    "# Introduction to Probability\n",
    "## Probability basics\n",
    "Find the country with the most bars in its flag. Assign the name of the country to most_bars_country."
   ]
  },
  {
   "cell_type": "code",
   "execution_count": 15,
   "metadata": {},
   "outputs": [],
   "source": [
    "idx=flags['bars'].sort_values(ascending=False).index[0]"
   ]
  },
  {
   "cell_type": "code",
   "execution_count": 16,
   "metadata": {},
   "outputs": [],
   "source": [
    "most_bars_country=flags['name'].loc[idx]"
   ]
  },
  {
   "cell_type": "code",
   "execution_count": 17,
   "metadata": {},
   "outputs": [
    {
     "data": {
      "text/plain": [
       "'St-Vincent'"
      ]
     },
     "execution_count": 17,
     "metadata": {},
     "output_type": "execute_result"
    }
   ],
   "source": [
    "most_bars_country"
   ]
  },
  {
   "cell_type": "markdown",
   "metadata": {},
   "source": [
    "Find the country with the highest population (as of 1986). Assign the name of the country to highest_population_country"
   ]
  },
  {
   "cell_type": "code",
   "execution_count": 20,
   "metadata": {},
   "outputs": [],
   "source": [
    "idx=flags['population'].sort_values(ascending=False).index[0]"
   ]
  },
  {
   "cell_type": "code",
   "execution_count": 23,
   "metadata": {},
   "outputs": [],
   "source": [
    "most_bars_country=flags['name'].iloc[idx]"
   ]
  },
  {
   "cell_type": "code",
   "execution_count": 24,
   "metadata": {},
   "outputs": [
    {
     "data": {
      "text/plain": [
       "'China'"
      ]
     },
     "execution_count": 24,
     "metadata": {},
     "output_type": "execute_result"
    }
   ],
   "source": [
    "most_bars_country"
   ]
  },
  {
   "cell_type": "markdown",
   "metadata": {},
   "source": [
    "## Calculating Probability"
   ]
  },
  {
   "cell_type": "markdown",
   "metadata": {},
   "source": [
    "Determine the probability of a country having a flag with the color orange in it. Assign the result to orange_probability."
   ]
  },
  {
   "cell_type": "code",
   "execution_count": 25,
   "metadata": {},
   "outputs": [],
   "source": [
    "total_countries = flags.shape[0]\n",
    "orange_probability = flags[flags[\"orange\"] == 1].shape[0] / total_countries"
   ]
  },
  {
   "cell_type": "code",
   "execution_count": 26,
   "metadata": {},
   "outputs": [
    {
     "data": {
      "text/plain": [
       "0.13402061855670103"
      ]
     },
     "execution_count": 26,
     "metadata": {},
     "output_type": "execute_result"
    }
   ],
   "source": [
    "orange_probability"
   ]
  },
  {
   "cell_type": "markdown",
   "metadata": {},
   "source": [
    "Determine the probability of a country having a flag with more than 1 stripe in it. Assign the result to stripe_probability."
   ]
  },
  {
   "cell_type": "code",
   "execution_count": 27,
   "metadata": {},
   "outputs": [
    {
     "data": {
      "text/plain": [
       "0.41237113402061853"
      ]
     },
     "execution_count": 27,
     "metadata": {},
     "output_type": "execute_result"
    }
   ],
   "source": [
    "stripe_probability = flags[flags[\"stripes\"] > 1].shape[0] / total_countries\n",
    "stripe_probability"
   ]
  },
  {
   "cell_type": "markdown",
   "metadata": {},
   "source": [
    "## Probability of renting bikes\n",
    "n many countries, there are bikesharing programs where anyone can rent a bike from a depot, and return it at other depots throughout a city. There is one such program in Washington, D.C., in the US. We'll be looking at the number of bikes that were rented by day. Here are the relevant columns:\n",
    "\n",
    "    dteday -- the date that we're looking at.\n",
    "    casual -- the number of casual riders (people who hadn't previously signed up with the bikesharing program) that rented bikes on the day.\n",
    "    registered -- the number of registered riders (people who signed up previously) that rented bikes.\n",
    "    cnt -- the total number of bikes rented.\n",
    "\n",
    "This data was collected by Hadi Fanaee-T at the University of Porto"
   ]
  },
  {
   "cell_type": "code",
   "execution_count": 28,
   "metadata": {},
   "outputs": [],
   "source": [
    "bikes = pd.read_csv('bike_rental_day.csv')"
   ]
  },
  {
   "cell_type": "code",
   "execution_count": 29,
   "metadata": {},
   "outputs": [
    {
     "data": {
      "text/html": [
       "<div>\n",
       "<style scoped>\n",
       "    .dataframe tbody tr th:only-of-type {\n",
       "        vertical-align: middle;\n",
       "    }\n",
       "\n",
       "    .dataframe tbody tr th {\n",
       "        vertical-align: top;\n",
       "    }\n",
       "\n",
       "    .dataframe thead th {\n",
       "        text-align: right;\n",
       "    }\n",
       "</style>\n",
       "<table border=\"1\" class=\"dataframe\">\n",
       "  <thead>\n",
       "    <tr style=\"text-align: right;\">\n",
       "      <th></th>\n",
       "      <th>instant</th>\n",
       "      <th>dteday</th>\n",
       "      <th>season</th>\n",
       "      <th>yr</th>\n",
       "      <th>mnth</th>\n",
       "      <th>holiday</th>\n",
       "      <th>weekday</th>\n",
       "      <th>workingday</th>\n",
       "      <th>weathersit</th>\n",
       "      <th>temp</th>\n",
       "      <th>atemp</th>\n",
       "      <th>hum</th>\n",
       "      <th>windspeed</th>\n",
       "      <th>casual</th>\n",
       "      <th>registered</th>\n",
       "      <th>cnt</th>\n",
       "    </tr>\n",
       "  </thead>\n",
       "  <tbody>\n",
       "    <tr>\n",
       "      <th>0</th>\n",
       "      <td>1</td>\n",
       "      <td>2011-01-01</td>\n",
       "      <td>1</td>\n",
       "      <td>0</td>\n",
       "      <td>1</td>\n",
       "      <td>0</td>\n",
       "      <td>6</td>\n",
       "      <td>0</td>\n",
       "      <td>2</td>\n",
       "      <td>0.344167</td>\n",
       "      <td>0.363625</td>\n",
       "      <td>0.805833</td>\n",
       "      <td>0.160446</td>\n",
       "      <td>331</td>\n",
       "      <td>654</td>\n",
       "      <td>985</td>\n",
       "    </tr>\n",
       "    <tr>\n",
       "      <th>1</th>\n",
       "      <td>2</td>\n",
       "      <td>2011-01-02</td>\n",
       "      <td>1</td>\n",
       "      <td>0</td>\n",
       "      <td>1</td>\n",
       "      <td>0</td>\n",
       "      <td>0</td>\n",
       "      <td>0</td>\n",
       "      <td>2</td>\n",
       "      <td>0.363478</td>\n",
       "      <td>0.353739</td>\n",
       "      <td>0.696087</td>\n",
       "      <td>0.248539</td>\n",
       "      <td>131</td>\n",
       "      <td>670</td>\n",
       "      <td>801</td>\n",
       "    </tr>\n",
       "    <tr>\n",
       "      <th>2</th>\n",
       "      <td>3</td>\n",
       "      <td>2011-01-03</td>\n",
       "      <td>1</td>\n",
       "      <td>0</td>\n",
       "      <td>1</td>\n",
       "      <td>0</td>\n",
       "      <td>1</td>\n",
       "      <td>1</td>\n",
       "      <td>1</td>\n",
       "      <td>0.196364</td>\n",
       "      <td>0.189405</td>\n",
       "      <td>0.437273</td>\n",
       "      <td>0.248309</td>\n",
       "      <td>120</td>\n",
       "      <td>1229</td>\n",
       "      <td>1349</td>\n",
       "    </tr>\n",
       "  </tbody>\n",
       "</table>\n",
       "</div>"
      ],
      "text/plain": [
       "   instant      dteday  season  yr  mnth  holiday  weekday  workingday  \\\n",
       "0        1  2011-01-01       1   0     1        0        6           0   \n",
       "1        2  2011-01-02       1   0     1        0        0           0   \n",
       "2        3  2011-01-03       1   0     1        0        1           1   \n",
       "\n",
       "   weathersit      temp     atemp       hum  windspeed  casual  registered  \\\n",
       "0           2  0.344167  0.363625  0.805833   0.160446     331         654   \n",
       "1           2  0.363478  0.353739  0.696087   0.248539     131         670   \n",
       "2           1  0.196364  0.189405  0.437273   0.248309     120        1229   \n",
       "\n",
       "    cnt  \n",
       "0   985  \n",
       "1   801  \n",
       "2  1349  "
      ]
     },
     "execution_count": 29,
     "metadata": {},
     "output_type": "execute_result"
    }
   ],
   "source": [
    "bikes.head(3)"
   ]
  },
  {
   "cell_type": "markdown",
   "metadata": {},
   "source": [
    "finding the probability that more than 2000 bikes will be rented on any given day."
   ]
  },
  {
   "cell_type": "code",
   "execution_count": 30,
   "metadata": {},
   "outputs": [
    {
     "name": "stdout",
     "output_type": "stream",
     "text": [
      "0.86593707250342\n"
     ]
    }
   ],
   "source": [
    "# Find the number of days the bikes rented exceeded the threshold.\n",
    "days_over_threshold = bikes[bikes[\"cnt\"] > 2000].shape[0]\n",
    "# Find the total number of days we have data for.\n",
    "total_days = bikes.shape[0]\n",
    "\n",
    "# Get the probability that more than 2000 bikes were rented for any given day.\n",
    "probability_over_2000 = days_over_threshold / total_days\n",
    "print(probability_over_2000)"
   ]
  },
  {
   "cell_type": "markdown",
   "metadata": {},
   "source": [
    "Find the probability that more than 4000 bikes were rented on any given day. "
   ]
  },
  {
   "cell_type": "code",
   "execution_count": 32,
   "metadata": {},
   "outputs": [
    {
     "name": "stdout",
     "output_type": "stream",
     "text": [
      "0.6183310533515732\n"
     ]
    }
   ],
   "source": [
    "days_over_threshold = bikes[bikes[\"cnt\"] > 4000].shape[0]\n",
    "probability_over_4000 = days_over_threshold / total_days\n",
    "print (probability_over_4000)"
   ]
  },
  {
   "cell_type": "code",
   "execution_count": 33,
   "metadata": {},
   "outputs": [
    {
     "data": {
      "text/plain": [
       "count     731.000000\n",
       "mean     4504.348837\n",
       "std      1937.211452\n",
       "min        22.000000\n",
       "25%      3152.000000\n",
       "50%      4548.000000\n",
       "75%      5956.000000\n",
       "max      8714.000000\n",
       "Name: cnt, dtype: float64"
      ]
     },
     "execution_count": 33,
     "metadata": {},
     "output_type": "execute_result"
    }
   ],
   "source": [
    "bikes['cnt'].describe()"
   ]
  },
  {
   "cell_type": "markdown",
   "metadata": {},
   "source": [
    "# Probability Distributions\n",
    "## Bikesharing distribution"
   ]
  },
  {
   "cell_type": "code",
   "execution_count": 34,
   "metadata": {},
   "outputs": [
    {
     "name": "stdout",
     "output_type": "stream",
     "text": [
      "0.3912448700410397\n"
     ]
    }
   ],
   "source": [
    "days_over_threshold = bikes[bikes[\"cnt\"] > 5000].shape[0]\n",
    "probability_over_5000 = days_over_threshold / total_days\n",
    "print (probability_over_5000)"
   ]
  },
  {
   "cell_type": "markdown",
   "metadata": {},
   "source": [
    "find the probability of each number of outcomes in outcome_counts occurring.<br>\n",
    "\n",
    "An outcome is a day where there are more than 5000 riders, with $p=.39$"
   ]
  },
  {
   "attachments": {
    "image.png": {
     "image/png": "[encoded data removed]"
    }
   },
   "cell_type": "markdown",
   "metadata": {},
   "source": [
    "find the probability of k outcomes out of N events occurring. We'll need to use this to build up a list of probabilities.\n",
    "![image.png](attachment:image.png)"
   ]
  },
  {
   "cell_type": "code",
   "execution_count": 35,
   "metadata": {},
   "outputs": [],
   "source": [
    "import math\n",
    "\n",
    "# Each item in this list represents one k, starting from 0 and going up to and including 30.\n",
    "outcome_counts = list(range(31))\n",
    "def find_probability(N, k, p, q):\n",
    "    # Find the probability of any single combination.\n",
    "    term_1 = p ** k\n",
    "    term_2 = q ** (N-k)\n",
    "    combo_prob = term_1 * term_2\n",
    "    \n",
    "    # Find the number of combinations.\n",
    "    numerator = math.factorial(N)\n",
    "    denominator = math.factorial(k) * math.factorial(N - k)\n",
    "    combo_count = numerator / denominator\n",
    "    \n",
    "    return combo_prob * combo_count\n",
    "\n",
    "outcome_probs = [find_probability(30, i, .39, .61) for i in outcome_counts]"
   ]
  },
  {
   "cell_type": "code",
   "execution_count": 36,
   "metadata": {},
   "outputs": [
    {
     "data": {
      "text/plain": [
       "<BarContainer object of 31 artists>"
      ]
     },
     "execution_count": 36,
     "metadata": {},
     "output_type": "execute_result"
    },
    {
     "data": {
      "image/png": "[encoded data removed]",
      "text/plain": [
       "<Figure size 432x288 with 1 Axes>"
      ]
     },
     "metadata": {
      "needs_background": "light"
     },
     "output_type": "display_data"
    }
   ],
   "source": [
    "plt.bar(outcome_counts,outcome_probs)"
   ]
  },
  {
   "cell_type": "markdown",
   "metadata": {},
   "source": [
    "## Simplifying the computation\n",
    "Instead, we could use the `binom.pmf` function from `SciPy`"
   ]
  },
  {
   "cell_type": "code",
   "execution_count": 39,
   "metadata": {},
   "outputs": [],
   "source": [
    "from scipy import linspace\n",
    "from scipy.stats import binom\n",
    "\n",
    "# Create a range of numbers from 0 to 30, with 31 elements (each number has one entry).\n",
    "outcome_counts = linspace(0,30,31)\n",
    "\n",
    "# Create the binomial probabilities, one for each entry in outcome_counts.\n",
    "dist = binom.pmf(outcome_counts,30,0.39)"
   ]
  },
  {
   "cell_type": "markdown",
   "metadata": {},
   "source": [
    "A binomial distribution only needs two parameters. A parameter is the statistical term for a number that summarizes data for the entire population. For a binomial distribution, the parameters are:\n",
    "\n",
    "    N, the total number of events,\n",
    "    p, the probability of the outcome we're interested in seeing.\n",
    "\n",
    "The SciPy function pmf matches this and takes in the following parameters:\n",
    "\n",
    "    x: the list of outcomes,\n",
    "    n: the total number of events,\n",
    "    p: the probability of the outcome we're interested in seeing.\n"
   ]
  },
  {
   "cell_type": "code",
   "execution_count": 40,
   "metadata": {},
   "outputs": [
    {
     "data": {
      "text/plain": [
       "<BarContainer object of 31 artists>"
      ]
     },
     "execution_count": 40,
     "metadata": {},
     "output_type": "execute_result"
    },
    {
     "data": {
      "image/png": "[encoded data removed]",
      "text/plain": [
       "<Figure size 432x288 with 1 Axes>"
      ]
     },
     "metadata": {
      "needs_background": "light"
     },
     "output_type": "display_data"
    }
   ],
   "source": [
    "plt.bar(outcome_counts,dist)"
   ]
  },
  {
   "cell_type": "markdown",
   "metadata": {},
   "source": [
    "If we repeatedly look at 30 days of bikesharing data, we'll find that 10 of the days had more than 5000 riders about 12.4% of the time. We'll find that 12 of the days had more than 5000 riders about 14.6% of the time."
   ]
  },
  {
   "cell_type": "markdown",
   "metadata": {},
   "source": [
    "Sometimes we'll want to be able to tell people the expected value of a probability distribution -- the most likely result of a single sample that we look at.<br>\n",
    "Just multiply $N$ by $p$"
   ]
  },
  {
   "cell_type": "code",
   "execution_count": 41,
   "metadata": {},
   "outputs": [],
   "source": [
    "dist_mean=30*.39"
   ]
  },
  {
   "cell_type": "code",
   "execution_count": 42,
   "metadata": {},
   "outputs": [
    {
     "data": {
      "text/plain": [
       "11.700000000000001"
      ]
     },
     "execution_count": 42,
     "metadata": {},
     "output_type": "execute_result"
    }
   ],
   "source": [
    "dist_mean"
   ]
  },
  {
   "cell_type": "markdown",
   "metadata": {},
   "source": [
    "Compute the standard deviation for the bikesharing data, where $N=30$, and $p=.39$"
   ]
  },
  {
   "cell_type": "code",
   "execution_count": 43,
   "metadata": {},
   "outputs": [
    {
     "data": {
      "text/plain": [
       "2.671516423307182"
      ]
     },
     "execution_count": 43,
     "metadata": {},
     "output_type": "execute_result"
    }
   ],
   "source": [
    "import math\n",
    "math.sqrt(30 * .39 * .61)"
   ]
  },
  {
   "cell_type": "markdown",
   "metadata": {},
   "source": [
    "we can vary the parameters to change the distribution. Let's see what the plot would look like with only 10 events, or 100 events."
   ]
  },
  {
   "cell_type": "code",
   "execution_count": 44,
   "metadata": {},
   "outputs": [
    {
     "data": {
      "image/png": "[encoded data removed]",
      "text/plain": [
       "<Figure size 432x288 with 1 Axes>"
      ]
     },
     "metadata": {
      "needs_background": "light"
     },
     "output_type": "display_data"
    },
    {
     "data": {
      "image/png": "[encoded data removed]",
      "text/plain": [
       "<Figure size 432x288 with 1 Axes>"
      ]
     },
     "metadata": {
      "needs_background": "light"
     },
     "output_type": "display_data"
    }
   ],
   "source": [
    "outcome_counts = linspace(0,10,11)\n",
    "outcome_probs = binom.pmf(outcome_counts,10,0.39)\n",
    "plt.bar(outcome_counts, outcome_probs)\n",
    "plt.show()\n",
    "\n",
    "outcome_counts = linspace(0,100,101)\n",
    "outcome_probs = binom.pmf(outcome_counts,100,0.39)\n",
    "plt.bar(outcome_counts, outcome_probs)\n",
    "plt.show()"
   ]
  },
  {
   "attachments": {
    "image.png": {
     "image/png": "[encoded data removed]"
    }
   },
   "cell_type": "markdown",
   "metadata": {},
   "source": [
    "![image.png](attachment:image.png)"
   ]
  },
  {
   "cell_type": "markdown",
   "metadata": {},
   "source": [
    "## Cumulative density function"
   ]
  },
  {
   "cell_type": "code",
   "execution_count": 45,
   "metadata": {},
   "outputs": [
    {
     "data": {
      "image/png": "[encoded data removed]",
      "text/plain": [
       "<Figure size 432x288 with 1 Axes>"
      ]
     },
     "metadata": {
      "needs_background": "light"
     },
     "output_type": "display_data"
    }
   ],
   "source": [
    "outcome_counts = linspace(0,30,31)\n",
    "outcome_probs = binom.cdf(outcome_counts,30,0.39)\n",
    "plt.plot(outcome_counts, outcome_probs)\n",
    "plt.show()"
   ]
  },
  {
   "cell_type": "markdown",
   "metadata": {},
   "source": [
    "# Significance Testing\n",
    "A hypothesis is a pattern or rule about a process in the world that can be tested. We use hypothesis testing to determine if a change we made had a meaningful impact or not.\n",
    "\n",
    "We can use hypothesis testing to help you determine:\n",
    "- If a new banner ad on a website caused a meaningful drop in the user engagement\n",
    "- If raising the price of a product caused a meaningful drop in sales\n",
    "- If a new weight loss pill helped people lose more weight\n",
    "\n",
    "Observing a decrease in user engagement or sales after instituing a change does not automatically implay that the change was the cause. <br>\n",
    "Hypothesis testing allows us to calculate the probability that random chance was actually responsible for the difference in outcome. Every proces has some inherent amount of randomness that we cannot measure and understanding the role of cahcne helps us reach a conclusion that is more likely be correct. <br>\n",
    "\n",
    "We first set up a **null hypothesis** that describes the **status quo**, then state the **alternative hypothesis**, which we used to compared with the null hypothesis to decide which describes the data better:\n",
    "- reject the null hypothesis and accept the alterantvie hypothesis\n",
    "- or accept the null hypothesis and reject the alternatvie hypothesis\n",
    "\n",
    "We can frame each of the studies above as these rival pairs of hypotheses:\n",
    "\n",
    "- if a new banner ad on a website caused a meaningful drop in the user engagement:\n",
    "    - null hypothesis: users who were exposed to the banner ad spent the **same** amount of time on the website than those who weren't.\n",
    "    - alternative hypothesis: users who were exposed to the banner ad spent less time on the website than those who weren't.\n",
    "\n",
    "- if raising the price of a product caused a meaningful drop in sales:\n",
    "    - null hypothesis: the number of purchases of the product was the **same** at the lower price than it was at the higher price.\n",
    "    - alternative hypothesis: the number of purchases of the product was lower at the higher price than it was at the lower price.\n",
    "\n",
    "- if a new weight loss pill helped people lose more weight:\n",
    "    - null hypothesis: patients who went on the weight loss pill lost **no more** weight than those who didn't.\n",
    "    - alternative hypothesis: patients who went on the weight loss pill lost more weight than those who didn't.\n",
    "\n",
    "In the rest of this mission, we'll focus on the third scenario and use data to determine if a weight loss pill helped people lose weight."
   ]
  },
  {
   "cell_type": "markdown",
   "metadata": {},
   "source": [
    "## Research Design\n",
    "To help us determine if the weight loss pill was effective, we conducted a study where we invited 100 volunteers and split them into 2 even groups randomly:\n",
    "\n",
    "    Group A was given a placebo, or fake, pill and instructed to consume it on a daily basis.\n",
    "    Group B was given the actual weight loss pill and instructed to consume it on a daily basis.\n",
    "\n",
    "Both groups were instructed to change nothing else about their diets. Group A is referred to as the control group while group B is referred to as the treatment group. This type of study is called a blind experiment since the participants didn't know which pill they were receiving. This helps us reduce the potential bias that is introduced when participants know which pill they were given. For example, participants who are aware they were given the weight loss pill may try to add healthier foods to their diet to help them lose more weight. Both groups were weighed before the study began and a month later, after the study ended.\n",
    "\n",
    "Understanding the research design for a study is an important first step that informs the rest of your analysis. It helps us uncover potential flaws in the study that we need to keep in mind as we dive deeper. The weight loss pill study we conducted is known as an experimental study. Experimental studies usually involve bringing in participants, instructing them to perform some tasks, and observing them. A key part of running an experimental study is random assignment, which involves assigning participants in the study to random groups without revealing which group each participant is in. Before exploring and analyzing a dataset, it's important to understand how the study was conducted. Flaws in how the study was run can lead you to reach the wrong conclusions."
   ]
  },
  {
   "cell_type": "markdown",
   "metadata": {},
   "source": [
    "## Statistical significance\n",
    "Statistics helps us determine if the difference in the weight lost between the 2 groups is because of random chance or because of an actual difference in the outcomes. If there is a meaningful difference, we say that the results are **statistically significant**. <br>\n",
    "\n",
    "Our null hypothesis should describe the default position of skepticism, which is that there's no statistically significant difference between the outcomes of the 2 groups. Put another way, it should state that **any difference is due to random chance**. Our alternative hypothesis should state that there is in fact a statistically significant difference between the outcomes of the 2 groups.\n",
    "\n",
    "- Null hypothesis: participants who consumed the weight loss pills lost the same amount of weight as those who didn't take the pill.\n",
    "- Alternative hypothesis: participants who consumed the weight loss pills lost more weight than those who didn't take the pill.\n"
   ]
  },
  {
   "cell_type": "code",
   "execution_count": 81,
   "metadata": {},
   "outputs": [],
   "source": [
    "weight_loss=pd.read_csv('weight_loss.csv',header=None)"
   ]
  },
  {
   "cell_type": "code",
   "execution_count": 82,
   "metadata": {},
   "outputs": [],
   "source": [
    "weight_loss.columns=['a','b']"
   ]
  },
  {
   "cell_type": "code",
   "execution_count": 83,
   "metadata": {},
   "outputs": [
    {
     "data": {
      "text/html": [
       "<div>\n",
       "<style scoped>\n",
       "    .dataframe tbody tr th:only-of-type {\n",
       "        vertical-align: middle;\n",
       "    }\n",
       "\n",
       "    .dataframe tbody tr th {\n",
       "        vertical-align: top;\n",
       "    }\n",
       "\n",
       "    .dataframe thead th {\n",
       "        text-align: right;\n",
       "    }\n",
       "</style>\n",
       "<table border=\"1\" class=\"dataframe\">\n",
       "  <thead>\n",
       "    <tr style=\"text-align: right;\">\n",
       "      <th></th>\n",
       "      <th>a</th>\n",
       "      <th>b</th>\n",
       "    </tr>\n",
       "  </thead>\n",
       "  <tbody>\n",
       "    <tr>\n",
       "      <th>0</th>\n",
       "      <td>3</td>\n",
       "      <td>5</td>\n",
       "    </tr>\n",
       "    <tr>\n",
       "      <th>1</th>\n",
       "      <td>2</td>\n",
       "      <td>4</td>\n",
       "    </tr>\n",
       "    <tr>\n",
       "      <th>2</th>\n",
       "      <td>3</td>\n",
       "      <td>5</td>\n",
       "    </tr>\n",
       "    <tr>\n",
       "      <th>3</th>\n",
       "      <td>4</td>\n",
       "      <td>5</td>\n",
       "    </tr>\n",
       "    <tr>\n",
       "      <th>4</th>\n",
       "      <td>3</td>\n",
       "      <td>4</td>\n",
       "    </tr>\n",
       "  </tbody>\n",
       "</table>\n",
       "</div>"
      ],
      "text/plain": [
       "   a  b\n",
       "0  3  5\n",
       "1  2  4\n",
       "2  3  5\n",
       "3  4  5\n",
       "4  3  4"
      ]
     },
     "execution_count": 83,
     "metadata": {},
     "output_type": "execute_result"
    }
   ],
   "source": [
    "weight_loss.head()"
   ]
  },
  {
   "cell_type": "code",
   "execution_count": 84,
   "metadata": {},
   "outputs": [
    {
     "data": {
      "text/plain": [
       "2.82"
      ]
     },
     "execution_count": 84,
     "metadata": {},
     "output_type": "execute_result"
    }
   ],
   "source": [
    "weight_loss['a'].mean()"
   ]
  },
  {
   "cell_type": "code",
   "execution_count": 85,
   "metadata": {},
   "outputs": [
    {
     "data": {
      "text/plain": [
       "5.34"
      ]
     },
     "execution_count": 85,
     "metadata": {},
     "output_type": "execute_result"
    }
   ],
   "source": [
    "weight_loss['b'].mean()"
   ]
  },
  {
   "cell_type": "code",
   "execution_count": 86,
   "metadata": {},
   "outputs": [
    {
     "data": {
      "text/plain": [
       "<matplotlib.axes._subplots.AxesSubplot at 0x1675cf36e48>"
      ]
     },
     "execution_count": 86,
     "metadata": {},
     "output_type": "execute_result"
    },
    {
     "data": {
      "image/png": "[encoded data removed]",
      "text/plain": [
       "<Figure size 432x288 with 1 Axes>"
      ]
     },
     "metadata": {
      "needs_background": "light"
     },
     "output_type": "display_data"
    }
   ],
   "source": [
    "weight_loss['a'].plot.hist()"
   ]
  },
  {
   "cell_type": "code",
   "execution_count": 87,
   "metadata": {},
   "outputs": [
    {
     "data": {
      "text/plain": [
       "<matplotlib.axes._subplots.AxesSubplot at 0x1675cf45240>"
      ]
     },
     "execution_count": 87,
     "metadata": {},
     "output_type": "execute_result"
    },
    {
     "data": {
      "image/png": "[encoded data removed]",
      "text/plain": [
       "<Figure size 432x288 with 1 Axes>"
      ]
     },
     "metadata": {
      "needs_background": "light"
     },
     "output_type": "display_data"
    }
   ],
   "source": [
    "weight_loss['b'].plot.hist()"
   ]
  },
  {
   "attachments": {
    "image.png": {
     "image/png": "[encoded data removed]"
    }
   },
   "cell_type": "markdown",
   "metadata": {},
   "source": [
    "## Test staistic\n",
    "We use this test statistic to run a statistical test that will determine how likely the difference between the groups were due to random chance. <br>\n",
    "\n",
    "Since we want to know if the amount of weight lost between the groups is meaningfully different, we will use the difference in the means, also known as the mean difference, of the amount of weight lost for each group as the test statistic. \n",
    "\n",
    "![image.png](attachment:image.png)"
   ]
  },
  {
   "cell_type": "code",
   "execution_count": 88,
   "metadata": {},
   "outputs": [],
   "source": [
    "mean_difference=weight_loss['b'].mean()-weight_loss['a'].mean()"
   ]
  },
  {
   "cell_type": "code",
   "execution_count": 89,
   "metadata": {},
   "outputs": [
    {
     "data": {
      "text/plain": [
       "2.52"
      ]
     },
     "execution_count": 89,
     "metadata": {},
     "output_type": "execute_result"
    }
   ],
   "source": [
    "mean_difference"
   ]
  },
  {
   "cell_type": "markdown",
   "metadata": {},
   "source": [
    "## Permutation test\n",
    "The purpose of a statistical test is to work out the likelihood that the result we achieved was due to random chance. <br>\n",
    "\n",
    "The **permutation test** is a statistical test that involves *simulating rerunning the study many times and recalculating the test statistic for each iteration*. The goal is to calculate a distribution of the test statistics over these many iterations. This distribution is called the sampling distribution and it approximates the full range of possible test statistics under the null hypothesis. We can then benchmark the test statistic we observed in the data (a mean difference of 2.52) to determine how likely it is to observe this mean difference under the null hypothesis. If the null hypothesis is true, that the weight loss pill doesn't help people lose more weight, than the observed mean difference of 2.52 should be quite common in the sampling distribution. If it's instead extremely rare, then we accept the alternative hypothesis instead.<br>\n",
    "\n",
    "To simulate rerunning the study, we randomly reassign each data point (weight lost) to either group A or group B. We keep track of the recalculated test statistics as a separate list. By re-randomizing the groups that the weight loss values belong to, we're simulating what randomly generated groupings of these weight loss values would look like. We then use these randomly generated groupings to understand how rare the groupings in our actual data were.\n",
    "\n",
    "Ideally, the number of times we re-randomize the groups that each data point belongs to matches the total number of possible permutations. Usually, the number of total permutations is too high for even powerful supercomputers to calculate within a reasonable time frame. While we'll use 1000 iterations for now since we'll get the results back quickly, in later missions we'll learn how to quantify the tradeoff we make between accuracy and speed to determine the optimal number of iterations."
   ]
  },
  {
   "cell_type": "code",
   "execution_count": 95,
   "metadata": {},
   "outputs": [],
   "source": [
    "all_values=list(np.concatenate((weight_loss['a'].values,weight_loss['b'].values),axis=0))"
   ]
  },
  {
   "cell_type": "code",
   "execution_count": 96,
   "metadata": {},
   "outputs": [
    {
     "data": {
      "text/plain": [
       "100"
      ]
     },
     "execution_count": 96,
     "metadata": {},
     "output_type": "execute_result"
    }
   ],
   "source": [
    "len(all_values)"
   ]
  },
  {
   "cell_type": "code",
   "execution_count": 97,
   "metadata": {},
   "outputs": [
    {
     "data": {
      "image/png": "[encoded data removed]",
      "text/plain": [
       "<Figure size 432x288 with 1 Axes>"
      ]
     },
     "metadata": {
      "needs_background": "light"
     },
     "output_type": "display_data"
    }
   ],
   "source": [
    "mean_difference = 2.52\n",
    "# print(all_values)\n",
    "mean_differences = []\n",
    "for i in range(1000):\n",
    "    group_a = []\n",
    "    group_b = []\n",
    "    for value in all_values:\n",
    "        assignment_chance = np.random.rand()\n",
    "        if assignment_chance >= 0.5:\n",
    "            group_a.append(value)\n",
    "        else:\n",
    "            group_b.append(value)\n",
    "    iteration_mean_difference = np.mean(group_b) - np.mean(group_a)\n",
    "    mean_differences.append(iteration_mean_difference)\n",
    "    \n",
    "plt.hist(mean_differences)\n",
    "plt.show()"
   ]
  },
  {
   "cell_type": "markdown",
   "metadata": {},
   "source": [
    "## Dictionary representation of a distribution\n",
    "Create an empty dictionary called sampling_distribution whose keys will be the test statistics and whose values are the frequencies of the test statistics."
   ]
  },
  {
   "cell_type": "code",
   "execution_count": 98,
   "metadata": {},
   "outputs": [],
   "source": [
    "sampling_distribution = {}\n",
    "for df in mean_differences:\n",
    "    if sampling_distribution.get(df, False):\n",
    "        sampling_distribution[df] = sampling_distribution[df] + 1\n",
    "    else:\n",
    "        sampling_distribution[df] = 1"
   ]
  },
  {
   "cell_type": "code",
   "execution_count": 99,
   "metadata": {},
   "outputs": [
    {
     "data": {
      "text/plain": [
       "{0.3569427771108442: 2,\n",
       " -0.7375201288244768: 2,\n",
       " 0.26666666666666705: 5,\n",
       " -0.18585858585858617: 3,\n",
       " 0.29898989898989914: 1,\n",
       " -0.20328131252500992: 3,\n",
       " 0.581818181818182: 2,\n",
       " 0.5894909688013135: 2,\n",
       " -0.4252873563218391: 2,\n",
       " 0.6282467532467533: 1,\n",
       " 0.42828282828282793: 2,\n",
       " 0.8250000000000002: 1,\n",
       " -0.6303030303030299: 3,\n",
       " 0.2400000000000002: 3,\n",
       " -0.12660256410256387: 3,\n",
       " -0.6434573829531809: 2,\n",
       " -0.5144230769230766: 2,\n",
       " -0.38335435056746503: 1,\n",
       " -0.8334002408671219: 3,\n",
       " -0.0242424242424244: 3,\n",
       " 0.8327922077922074: 1,\n",
       " 0.34943639291465356: 3,\n",
       " 0.2596114096734192: 1,\n",
       " -0.061688311688310904: 2,\n",
       " 0.43697478991596617: 2,\n",
       " 0.2740384615384617: 5,\n",
       " -0.2368947579031615: 3,\n",
       " 0.11684673869547879: 2,\n",
       " -0.016161616161616266: 4,\n",
       " 0.061688311688310904: 2,\n",
       " 0.08992372541148086: 2,\n",
       " -0.42594859241126093: 1,\n",
       " 0.17898193760262693: 4,\n",
       " -0.3141025641025643: 2,\n",
       " 0.0064102564102563875: 5,\n",
       " -0.4913689281413083: 3,\n",
       " 0.14285714285714324: 2,\n",
       " -0.1232492997198884: 3,\n",
       " 0.15094339622641506: 2,\n",
       " -0.0032012805122052512: 2,\n",
       " 0.16666666666666696: 1,\n",
       " 0.17021276595744705: 3,\n",
       " 0.6073717948717947: 1,\n",
       " 0.053140096618357724: 1,\n",
       " 0.5234093637454982: 1,\n",
       " 0.009634684865515553: 3,\n",
       " 0.1232492997198884: 3,\n",
       " -0.21521647751155903: 4,\n",
       " -0.036814725890355504: 3,\n",
       " 0.3200000000000003: 2,\n",
       " -0.3070707070707068: 3,\n",
       " -0.4702093397745575: 3,\n",
       " 0.6799999999999997: 1,\n",
       " 0.15686274509803955: 6,\n",
       " 0.23397435897435903: 4,\n",
       " 0.6920915295062224: 1,\n",
       " -0.7200000000000002: 1,\n",
       " -0.012882447665056418: 5,\n",
       " -0.05875152998776034: 1,\n",
       " 0.24329731892757067: 4,\n",
       " -0.1968787515006003: 3,\n",
       " 0.21621621621621578: 1,\n",
       " -0.6770708283313329: 2,\n",
       " -0.31692677070828346: 1,\n",
       " -0.0676328502415453: 2,\n",
       " 0.36334533813525427: 1,\n",
       " 0.5570228091236489: 1,\n",
       " 0.0032012805122052512: 4,\n",
       " 1.0132476916900846: 2,\n",
       " -0.0064102564102563875: 8,\n",
       " 0.5076477883422905: 1,\n",
       " -1.5451559934318557: 1,\n",
       " -1.6428571428571428: 1,\n",
       " -0.23152709359605916: 2,\n",
       " -0.07371794871794801: 1,\n",
       " 0.18115055079559372: 1,\n",
       " 0.6370548219287717: 1,\n",
       " -0.06006493506493449: 3,\n",
       " -0.7275641025641022: 1,\n",
       " -0.08653846153846168: 4,\n",
       " -0.52: 1,\n",
       " -0.29064632677639546: 2,\n",
       " 0.19999999999999973: 5,\n",
       " 0.2103572862304297: 2,\n",
       " -0.712966680048174: 1,\n",
       " -0.2627498980008163: 2,\n",
       " 0.2312324367723808: 4,\n",
       " -0.16326530612244916: 1,\n",
       " 0.16000000000000014: 4,\n",
       " 0.0969696969696976: 1,\n",
       " 0.7111111111111112: 1,\n",
       " -0.3957307060755335: 1,\n",
       " -0.19999999999999973: 5,\n",
       " -0.017951856385148623: 2,\n",
       " -0.34131988230348886: 1,\n",
       " 0.09339774557165814: 2,\n",
       " -0.22402597402597424: 2,\n",
       " 0.11378205128205199: 8,\n",
       " -0.5634253701480594: 2,\n",
       " 0.6305418719211824: 1,\n",
       " 0.08000000000000007: 5,\n",
       " -0.5523885989562429: 1,\n",
       " 0.10505050505050484: 2,\n",
       " -0.6728221597751909: 1,\n",
       " 0.5523885989562429: 2,\n",
       " 0.7520128824476648: 1,\n",
       " -0.07065435568044975: 4,\n",
       " 0.07683073229291715: 4,\n",
       " -0.11378205128205199: 1,\n",
       " -0.4202020202020198: 4,\n",
       " 0.4299516908212557: 2,\n",
       " 0.26892109500805095: 2,\n",
       " 0.2141706924315625: 5,\n",
       " -0.4666666666666668: 1,\n",
       " -0.06732348111658393: 1,\n",
       " -1.0666666666666669: 1,\n",
       " 0.4431583298883841: 1,\n",
       " 0.436781609195402: 3,\n",
       " -0.11079887595343241: 4,\n",
       " -0.8180354267310785: 1,\n",
       " -0.2646103896103895: 3,\n",
       " 0.3669871794871793: 2,\n",
       " 0.14123376623376593: 4,\n",
       " 0.5494949494949495: 2,\n",
       " -1.5961538461538458: 1,\n",
       " 0.7275641025641022: 1,\n",
       " -0.6312399355877614: 2,\n",
       " -0.33079084704937767: 1,\n",
       " -0.5970388155262101: 1,\n",
       " -0.8076923076923075: 1,\n",
       " -1.1972789115646263: 1,\n",
       " -0.4431583298883841: 1,\n",
       " -0.49597423510466987: 4,\n",
       " 0.2833133253301314: 7,\n",
       " 1.0372148859543815: 1,\n",
       " 0.474358974358974: 1,\n",
       " 0.40000000000000036: 4,\n",
       " 0.7948717948717952: 1,\n",
       " 0.5532435740514074: 2,\n",
       " 0.7971188475390156: 1,\n",
       " -0.634615384615385: 3,\n",
       " -0.5234093637454982: 3,\n",
       " 0.040000000000000036: 4,\n",
       " -0.5362318840579712: 2,\n",
       " -0.17391304347826075: 1,\n",
       " -0.7170868347338937: 3,\n",
       " -0.9790660225442833: 1,\n",
       " -0.04321728691476601: 6,\n",
       " 0.4686868686868686: 3,\n",
       " 0.35166599759132877: 1,\n",
       " 1.0772308923569422: 1,\n",
       " -0.15094339622641506: 7,\n",
       " 0.16326530612244916: 3,\n",
       " -0.19108791649939816: 1,\n",
       " -0.22684618523051858: 2,\n",
       " 1.5560016057808106: 1,\n",
       " 0.24679487179487136: 1,\n",
       " 0.3090277777777777: 1,\n",
       " -0.2740384615384617: 5,\n",
       " 0.0676328502415453: 4,\n",
       " 0.1200000000000001: 1,\n",
       " 0.39423076923076916: 2,\n",
       " 0.4269480519480524: 3,\n",
       " -0.2141706924315625: 2,\n",
       " 0.47699079631852737: 3,\n",
       " 0.09955120359037117: 1,\n",
       " 0.7515151515151515: 1,\n",
       " -0.8000000000000003: 1,\n",
       " 0.0242424242424244: 2,\n",
       " -0.7126436781609198: 1,\n",
       " 0.3599999999999999: 4,\n",
       " 0.1311475409836067: 1,\n",
       " 0.2629870129870131: 1,\n",
       " 0.5104669887278583: 2,\n",
       " 0.4342948717948718: 3,\n",
       " -0.3604795369987599: 1,\n",
       " -0.5090909090909097: 1,\n",
       " -0.1403508771929829: 2,\n",
       " -0.39423076923076916: 3,\n",
       " -0.27257799671592764: 4,\n",
       " 0.3969587835134054: 4,\n",
       " -0.3569427771108442: 2,\n",
       " 0.8796409628722972: 1,\n",
       " 0.30000000000000027: 1,\n",
       " -0.17021276595744705: 2,\n",
       " -0.11684673869547879: 4,\n",
       " 0.4913689281413083: 2,\n",
       " -0.474358974358974: 2,\n",
       " -0.41545893719806726: 1,\n",
       " -0.42828282828282793: 1,\n",
       " 0.19391025641025683: 1,\n",
       " 0.7571028411364549: 1,\n",
       " 0.28685897435897445: 1,\n",
       " -0.5010101010101007: 1,\n",
       " 0.9538338016860699: 1,\n",
       " 0.3414843414843416: 1,\n",
       " 0.12903225806451601: 1,\n",
       " 0.7922077922077926: 1,\n",
       " -0.4070512820512824: 3,\n",
       " -0.040000000000000036: 2,\n",
       " -0.049779205138499094: 1,\n",
       " -0.5544871794871793: 1,\n",
       " -0.053140096618357724: 3,\n",
       " -0.5891472868217051: 1,\n",
       " -0.5272435897435899: 3,\n",
       " -0.9679487179487176: 2,\n",
       " 0.0305098354074671: 5,\n",
       " 0.2799999999999998: 2,\n",
       " -0.34943639291465356: 4,\n",
       " 0.45122440786832607: 3,\n",
       " -0.4253888188314412: 1,\n",
       " 0.07065435568044975: 4,\n",
       " -0.571657968687274: 1,\n",
       " -0.3541666666666665: 2,\n",
       " 0.0: 3,\n",
       " 0.8416666666666668: 1,\n",
       " -0.25833333333333375: 1,\n",
       " -0.9939393939393941: 2,\n",
       " 0.033333333333333215: 1,\n",
       " -0.6519470092332398: 2,\n",
       " 0.27691076430572226: 2,\n",
       " -0.40000000000000036: 3,\n",
       " 0.049779205138499094: 2,\n",
       " 0.17777777777777803: 1,\n",
       " 0.4471153846153846: 5,\n",
       " -0.5186813186813186: 1,\n",
       " 0.7200000000000002: 1,\n",
       " -0.7520128824476648: 2,\n",
       " -0.5959252971137521: 1,\n",
       " 0.5925331192292247: 1,\n",
       " -0.28685897435897445: 1,\n",
       " -0.763505402160864: 1,\n",
       " -0.5600000000000005: 2,\n",
       " -0.30213464696223324: 1,\n",
       " -0.3803056027164686: 2,\n",
       " 0.26764585883312986: 1,\n",
       " 0.1454545454545455: 2,\n",
       " 0.3035714285714284: 1,\n",
       " 0.05656565656565604: 2,\n",
       " 0.29064632677639546: 5,\n",
       " -0.7599999999999998: 1,\n",
       " 0.634615384615385: 3,\n",
       " -0.19512195121951237: 1,\n",
       " 0.5362318840579712: 2,\n",
       " 0.5272435897435899: 1,\n",
       " -0.6299469604243169: 2,\n",
       " 0.08653846153846168: 3,\n",
       " -0.2946859903381638: 3,\n",
       " 0.4319550381372941: 1,\n",
       " -1.1168831168831166: 1,\n",
       " -0.14285714285714324: 1,\n",
       " -1.2206119162640898: 1,\n",
       " 0.3269230769230771: 3,\n",
       " 0.10227272727272751: 1,\n",
       " -1.0772308923569422: 1,\n",
       " 0.46674826601387176: 3,\n",
       " -0.26764585883312986: 1,\n",
       " 0.17391304347826075: 1,\n",
       " -0.022847817217462207: 1,\n",
       " 0.47209955841027673: 2,\n",
       " -0.5414141414141418: 2,\n",
       " -0.1200000000000001: 2,\n",
       " -0.014778325123153024: 1,\n",
       " -0.1300682456844635: 2,\n",
       " 0.08323329331732676: 1,\n",
       " 0.5940432476540187: 1,\n",
       " -0.6000000000000001: 1,\n",
       " 0.5600000000000005: 3,\n",
       " -0.7241379310344827: 1,\n",
       " 0.46590909090909083: 1,\n",
       " 0.22003284072249585: 1,\n",
       " -0.04999999999999982: 1,\n",
       " 0.5673076923076925: 2,\n",
       " 0.7548076923076925: 1,\n",
       " -0.8356452290878518: 1,\n",
       " -0.2629870129870131: 1,\n",
       " 0.6728221597751909: 1,\n",
       " 0.22240259740259694: 1,\n",
       " 0.3115214773183461: 2,\n",
       " -0.5925297113752124: 1,\n",
       " 0.4666666666666668: 1,\n",
       " 0.03699033207229885: 1,\n",
       " -0.38362959900785487: 1,\n",
       " 0.9150641025641026: 1,\n",
       " -0.4269480519480524: 2,\n",
       " -0.783838383838384: 2,\n",
       " 0.8879120879120883: 1,\n",
       " -0.13333333333333375: 1,\n",
       " 0.5144230769230766: 1,\n",
       " -0.4433773509403758: 1,\n",
       " -0.6400000000000006: 2,\n",
       " -0.6118024889602567: 3,\n",
       " -0.7434343434343433: 1,\n",
       " -0.9199999999999999: 1,\n",
       " 0.6746794871794877: 2,\n",
       " 0.18585858585858617: 3,\n",
       " -0.09339774557165814: 2,\n",
       " -0.23397435897435903: 2,\n",
       " 0.43999999999999995: 2,\n",
       " -0.4110798875953434: 3,\n",
       " 0.7970235634559732: 1,\n",
       " 0.27780074410913613: 1,\n",
       " 0.016161616161616266: 1,\n",
       " -0.10227272727272751: 1,\n",
       " 0.34318555008210216: 1,\n",
       " -0.14524683802529648: 3,\n",
       " -0.47699079631852737: 3,\n",
       " -0.033333333333333215: 1,\n",
       " 0.04321728691476601: 5,\n",
       " 0.05875152998776034: 1,\n",
       " 0.4871794871794868: 1,\n",
       " -0.47209955841027673: 2,\n",
       " 0.6707466340269277: 1,\n",
       " -0.20000000000000018: 1,\n",
       " 0.3492452060383515: 1,\n",
       " -0.342290202563043: 1,\n",
       " -0.7110389610389616: 2,\n",
       " 0.35467980295566504: 2,\n",
       " -0.22866344605475053: 1,\n",
       " -0.1006493506493511: 3,\n",
       " -0.046474358974359475: 3,\n",
       " -0.2505018065034119: 3,\n",
       " 0.017951856385148623: 1,\n",
       " 0.1904761904761907: 2,\n",
       " -0.2596114096734192: 1,\n",
       " 0.2505018065034119: 1,\n",
       " -0.5507246376811592: 2,\n",
       " -0.2833133253301314: 4,\n",
       " 0.4800000000000004: 1,\n",
       " 0.6875: 2,\n",
       " -0.5749999999999997: 1,\n",
       " 0.2368947579031615: 2,\n",
       " -0.4249999999999998: 1,\n",
       " 0.22866344605475053: 2,\n",
       " -0.4319550381372941: 2,\n",
       " 0.1006493506493511: 1,\n",
       " -0.3457792207792205: 1,\n",
       " -0.24329731892757067: 3,\n",
       " 0.5634253701480594: 4,\n",
       " 0.38474025974026027: 1,\n",
       " -0.7094155844155847: 1,\n",
       " 0.4702093397745575: 3,\n",
       " -0.3233293317326935: 2,\n",
       " 0.39181051786431187: 2,\n",
       " 0.5470779220779223: 2,\n",
       " -0.3200000000000003: 2,\n",
       " -0.3035714285714284: 1,\n",
       " 0.6911947085572554: 1,\n",
       " -0.33939393939393936: 3,\n",
       " 0.6626262626262629: 1,\n",
       " -0.5918003565062389: 1,\n",
       " 0.02110389610389607: 3,\n",
       " -0.3669871794871793: 1,\n",
       " 0.7147435897435899: 1,\n",
       " 0.5945512820512815: 2,\n",
       " 0.012882447665056418: 1,\n",
       " -0.3797979797979796: 2,\n",
       " 0.07371794871794801: 2,\n",
       " -0.39181051786431187: 1,\n",
       " 0.3842364532019702: 2,\n",
       " 0.22402597402597424: 1,\n",
       " 0.8035214085634252: 1,\n",
       " 0.21052631578947345: 1,\n",
       " 0.42594859241126093: 1,\n",
       " -0.6167471819645729: 3,\n",
       " 0.06732348111658393: 1,\n",
       " 0.38787878787878816: 4,\n",
       " 0.38636363636363624: 2,\n",
       " 0.5075479396164826: 3,\n",
       " -0.08992372541148086: 4,\n",
       " 0.11079887595343241: 2,\n",
       " 0.5484400656814454: 1,\n",
       " -0.2103572862304297: 3,\n",
       " 0.036814725890355504: 2,\n",
       " -0.12105926860025296: 1,\n",
       " -0.38474025974026027: 1,\n",
       " -0.46519524617996577: 1,\n",
       " 0.8928141308711361: 1,\n",
       " 0.2585858585858585: 1,\n",
       " -0.29890109890109917: 1,\n",
       " -0.14123376623376593: 1,\n",
       " -0.46753246753246724: 1,\n",
       " -0.8371348539415768: 1,\n",
       " -0.10505050505050484: 1,\n",
       " 0.8349358974358974: 1,\n",
       " 0.6834733893557425: 2,\n",
       " -0.0050441361916773175: 1,\n",
       " -0.3269230769230771: 1,\n",
       " 0.06464646464646506: 1,\n",
       " -0.23646134766432425: 2,\n",
       " 0.46630839189747864: 2,\n",
       " -0.5122440786832598: 1,\n",
       " 0.8735447611401046: 1,\n",
       " -0.31362889983579656: 1,\n",
       " -0.7971188475390156: 2,\n",
       " 0.3009508061182311: 1,\n",
       " 0.30519480519480524: 1,\n",
       " -0.9197141656158054: 1,\n",
       " -0.24716267339218145: 1,\n",
       " -0.0017160017160016139: 1,\n",
       " 0.014778325123153024: 2,\n",
       " -0.4800000000000004: 3,\n",
       " -0.6799999999999997: 3,\n",
       " 0.10837438423645374: 1,\n",
       " -0.5484400656814454: 1,\n",
       " 0.4070512820512824: 2,\n",
       " -0.5470779220779223: 1,\n",
       " -0.6166666666666667: 1,\n",
       " 0.24716267339218145: 1,\n",
       " -0.42532467532467555: 1,\n",
       " 0.011575031004547043: 2,\n",
       " -0.0916666666666659: 1,\n",
       " -0.2312324367723808: 1,\n",
       " -0.9171668667466988: 1,\n",
       " 0.8242424242424242: 1,\n",
       " -0.07683073229291715: 2,\n",
       " 0.1078904991948475: 3,\n",
       " -0.38681318681318677: 1,\n",
       " 0.6298701298701297: 1,\n",
       " 1.1574675324675328: 1,\n",
       " -0.027375201288244888: 1,\n",
       " -0.16000000000000014: 2,\n",
       " -0.5940432476540187: 2,\n",
       " 0.31362889983579656: 2,\n",
       " 0.9293924466338255: 1,\n",
       " -1.0881410256410255: 1,\n",
       " 0.33079084704937767: 1,\n",
       " 0.5124439004487962: 1,\n",
       " -0.47783251231527046: 1,\n",
       " -0.875: 2,\n",
       " 0.19108791649939816: 1,\n",
       " -1.0998389694041868: 1,\n",
       " -0.10837438423645374: 1,\n",
       " 0.8334002408671219: 1,\n",
       " 0.3604795369987599: 1,\n",
       " 0.4202020202020198: 3,\n",
       " 0.5988845988845988: 1,\n",
       " 0.07110376188507672: 1,\n",
       " -0.3896940418679553: 1,\n",
       " 0.6034413765506201: 1,\n",
       " 0.30213464696223324: 1,\n",
       " -0.6009852216748772: 1,\n",
       " 0.10444716442268476: 1,\n",
       " -0.019480519480519654: 2,\n",
       " -0.3969587835134054: 2,\n",
       " -0.271376957045363: 1,\n",
       " 0.21666666666666679: 1,\n",
       " -0.4833933573429374: 3,\n",
       " 1.1948470209339774: 1,\n",
       " 0.09688013136288998: 2,\n",
       " -0.14814814814814792: 1,\n",
       " 0.6222222222222227: 1,\n",
       " -0.6920915295062224: 1,\n",
       " -0.2400000000000002: 2,\n",
       " 0.8477564102564101: 1,\n",
       " -0.3599999999999999: 1,\n",
       " 0.6519470092332398: 1,\n",
       " 0.5544871794871793: 1,\n",
       " 0.46060606060606046: 1,\n",
       " 0.8985507246376812: 1,\n",
       " -0.1538461538461542: 1,\n",
       " -0.30844553243574024: 1,\n",
       " 0.63484292125663: 1,\n",
       " 0.2627498980008163: 1,\n",
       " 0.7164422684618521: 1,\n",
       " -0.4686868686868686: 1,\n",
       " -0.39004487964096235: 2,\n",
       " 0.22195022439820455: 1,\n",
       " -0.02110389610389607: 1,\n",
       " -0.09688013136288998: 1,\n",
       " -0.08000000000000007: 2,\n",
       " -0.7571028411364549: 1,\n",
       " 0.25442834138486337: 2,\n",
       " 0.875: 1,\n",
       " -0.13737373737373737: 1,\n",
       " 0.6355611601513242: 1,\n",
       " -0.403361344537815: 3,\n",
       " -0.04118404118404051: 1,\n",
       " 0.3035495716034271: 1,\n",
       " -0.5081168831168834: 1,\n",
       " 0.3233293317326935: 1,\n",
       " 1.0436174469787916: 1,\n",
       " 0.9679487179487176: 1,\n",
       " 0.7599999999999998: 1,\n",
       " -0.46590909090909083: 1,\n",
       " -0.43697478991596617: 1,\n",
       " -0.03365384615384581: 1,\n",
       " 0.27257799671592764: 1,\n",
       " 0.3070707070707068: 1,\n",
       " -0.4916666666666667: 1,\n",
       " -0.8035214085634252: 1,\n",
       " 0.403361344537815: 1,\n",
       " -0.22626262626262594: 1,\n",
       " -0.9731031714171019: 1,\n",
       " -0.7548076923076925: 1,\n",
       " -0.17777777777777803: 1,\n",
       " 0.34969611968209424: 1,\n",
       " 0.3752012882447664: 2,\n",
       " -0.3752012882447664: 1,\n",
       " -0.4663382594417076: 2,\n",
       " -0.7147435897435899: 1,\n",
       " 0.6383701188455007: 1,\n",
       " -0.5170068027210881: 3,\n",
       " 0.2610837438423643: 1,\n",
       " 0.5483476132190943: 1,\n",
       " -1.1298865069356872: 1,\n",
       " 0.7676282051282053: 1,\n",
       " -0.3709353673223603: 1,\n",
       " 0.13365539452496034: 2,\n",
       " 0.33494363929146553: 1,\n",
       " -0.17500000000000027: 2,\n",
       " 0.18840579710144967: 1,\n",
       " -0.35243055555555536: 1,\n",
       " -0.0969696969696976: 1,\n",
       " 0.4916666666666667: 1,\n",
       " -0.1379310344827589: 1,\n",
       " -0.581818181818182: 1,\n",
       " 0.3541666666666665: 2,\n",
       " 0.5891472868217051: 1,\n",
       " 0.14814814814814792: 1,\n",
       " -0.6715927750410504: 1,\n",
       " 0.3141025641025643: 1,\n",
       " -0.14942528735632177: 1,\n",
       " -0.7531112003211557: 1,\n",
       " 0.052914427449358925: 1,\n",
       " -0.35467980295566504: 1,\n",
       " -1.048076923076923: 1,\n",
       " -0.17898193760262693: 1,\n",
       " 0.3441558441558441: 1,\n",
       " 0.3474747474747475: 1,\n",
       " 0.5499999999999998: 1,\n",
       " 0.8771508603441376: 1,\n",
       " 0.1968787515006003: 2,\n",
       " -0.6626262626262629: 1,\n",
       " -0.3474747474747475: 1,\n",
       " -0.6370548219287717: 1,\n",
       " 0.49597423510466987: 1,\n",
       " -0.46060606060606046: 1,\n",
       " -0.3035495716034271: 1,\n",
       " 0.5064935064935061: 1,\n",
       " -0.055829228243021944: 1,\n",
       " 0.6570048309178746: 1,\n",
       " 0.5010101010101007: 1,\n",
       " 0.42532467532467555: 1,\n",
       " 0.17500000000000027: 1,\n",
       " 0.9139610389610384: 1,\n",
       " -0.27691076430572226: 1,\n",
       " 0.2946859903381638: 1,\n",
       " 0.319140140553948: 1,\n",
       " 0.8727858293075688: 1,\n",
       " -0.6305418719211824: 1,\n",
       " 0.3797979797979796: 1,\n",
       " 0.41545893719806726: 2,\n",
       " 0.7170868347338937: 1,\n",
       " -0.6222222222222227: 1,\n",
       " 0.52: 1,\n",
       " -0.8978916907813144: 1,\n",
       " -0.8194444444444446: 1,\n",
       " 1.0747474747474746: 1,\n",
       " 0.571657968687274: 1,\n",
       " 1.0881410256410255: 1,\n",
       " -0.18181818181818166: 1,\n",
       " -0.7143447705663495: 1,\n",
       " -0.9635854341736692: 1,\n",
       " 0.6303030303030299: 1,\n",
       " 0.23152709359605916: 1,\n",
       " -0.7115463076295394: 1,\n",
       " -0.3443492452060388: 1,\n",
       " -0.38787878787878816: 2,\n",
       " -0.1078904991948475: 1,\n",
       " -0.06464646464646506: 1,\n",
       " 0.6434573829531809: 1,\n",
       " -0.36334533813525427: 1,\n",
       " -0.711755233494364: 1,\n",
       " 0.14524683802529648: 1,\n",
       " 1.0836334533813528: 1,\n",
       " -0.19391025641025683: 1}"
      ]
     },
     "execution_count": 99,
     "metadata": {},
     "output_type": "execute_result"
    }
   ],
   "source": [
    "sampling_distribution"
   ]
  },
  {
   "cell_type": "markdown",
   "metadata": {},
   "source": [
    "## P value\n",
    "In the sampling distribution we generated, most of the values are closely centered around the mean difference of 0. **This means that if it were purely up to chance, both groups would have lost the same amount of weight (the null hypothesis). But since the observed test statistic is not near 0, it could mean that the weight loss pills could be responsible for the mean difference in the study.**<br>\n",
    "\n",
    "We can now use the sampling distribution to determine the number of times a value of 2.52 or higher appeared in our simulations. If we then divide that frequency by 1000, we'll have the probability of observing a mean difference of 2.52 or higher purely due to random chance.<br>\n",
    "\n",
    "This probability is called the p value. If this value is high, it means that the difference in the amount of weight both groups lost could have easily happened randomly and the weight loss pills probably didn't play a role. On the other hand, a low p value implies that there's an incredibly small probability that the mean difference we observed was because of random chance.<br>\n",
    "\n",
    "In general, it's good practice to set the p value threshold before conducting the study:\n",
    "\n",
    "    if the p value is less than the threshold, we:\n",
    "        reject the null hypothesis that there's no difference in mean amount of weight lost by participants in both groups,\n",
    "        accept the alternative hypothesis that the people who consumed the weight loss pill lost more weight,\n",
    "        conclude that the weight loss pill does affect the amount of weight people lost.\n",
    "\n",
    "The most common p value threshold is 0.05 or 5%, which is what we'll use in this mission. Although .05 is an arbitrary threshold, it means that there's only a 5% chance that the results are due to random chance, which most researchers are comfortable with."
   ]
  },
  {
   "cell_type": "code",
   "execution_count": 100,
   "metadata": {},
   "outputs": [],
   "source": [
    "frequencies = []\n",
    "for sp in sampling_distribution.keys():\n",
    "    if sp >= 2.52:\n",
    "        frequencies.append(sampling_distribution[sp])\n",
    "p_value = np.sum(frequencies) / 1000"
   ]
  },
  {
   "cell_type": "code",
   "execution_count": 101,
   "metadata": {},
   "outputs": [
    {
     "data": {
      "text/plain": [
       "0.0"
      ]
     },
     "execution_count": 101,
     "metadata": {},
     "output_type": "execute_result"
    }
   ],
   "source": [
    "p_value"
   ]
  },
  {
   "cell_type": "markdown",
   "metadata": {},
   "source": [
    "Since the p value of 0 is less than the threshold we set of 0.05, we conclude that the difference in weight lost can't be attributed to random chance alone. We therefore reject the null hypothesis and accept the alternative hypothesis. A few caveats:\n",
    "\n",
    "    Research design is incredibly important and can bias your results. For example, if the participants in group A realized they were given placebo sugar pills, they may modify their behavior and affect the outcome.\n",
    "    The p value threshold you set can also affect the conclusion you reach.\n",
    "        If you set too high of a p value threshold, you may accept the alternative hypothesis incorrectly and reject the null hypothesis. This is known as a type I error.\n",
    "        If you set too low of a p value threshold, you may reject the alternative hypothesis incorrectly in favor of accepting the null hypothesis. This is known as a type II error.\n"
   ]
  },
  {
   "attachments": {
    "image.png": {
     "image/png": "[encoded data removed]"
    }
   },
   "cell_type": "markdown",
   "metadata": {},
   "source": [
    "# Chi-squared test\n",
    "Chi-squared test used for categorical data and this test allow us to determine the statistical significance of observing a set of categorical values.<br>\n",
    "\n",
    "The data used is on US income and demographics. <br>\n",
    "ach row represents a single person who was counted in the 1990 US Census, and contains information about their income and demographics. Here are some of the relevant columns:\n",
    "\n",
    "    age -- how old the person is\n",
    "    workclass -- the type of sector the person is employed in.\n",
    "    race -- the race of the person.\n",
    "    sex -- the gender of the person, either Male or Female.\n",
    "\n",
    "The entire dataset has 32561 rows, and is a sample of the full Census. Of the rows, 10771 are Female, and 21790 are Male. These numbers look a bit off, because the full Census shows that the US is about 50% Male and 50% Female. So our expected values for number of Males and Females would be 16280.5 each.\n",
    "![image.png](attachment:image.png)\n",
    "\n",
    "We know that something looks off, but we don't quite know how to quantify how different the observed and expected values are. We also don't have any way to determine if there's a statistically significant difference between the two groups, and if we need to investigate further.\n",
    "\n",
    "This is where a chi-squared test can help. The chi-squared test enables us to quantify the difference between sets of observed and expected categorical values."
   ]
  },
  {
   "attachments": {
    "image.png": {
     "image/png": "[encoded data removed]"
    }
   },
   "cell_type": "markdown",
   "metadata": {},
   "source": [
    "### Calculating differences\n",
    "One way we can determine the differences bewteen observed and expected values is to compute simple proportional differences. \n",
    "![image.png](attachment:image.png)"
   ]
  },
  {
   "cell_type": "code",
   "execution_count": 102,
   "metadata": {},
   "outputs": [],
   "source": [
    "income=pd.read_csv('income.csv')"
   ]
  },
  {
   "cell_type": "code",
   "execution_count": 103,
   "metadata": {},
   "outputs": [
    {
     "data": {
      "text/html": [
       "<div>\n",
       "<style scoped>\n",
       "    .dataframe tbody tr th:only-of-type {\n",
       "        vertical-align: middle;\n",
       "    }\n",
       "\n",
       "    .dataframe tbody tr th {\n",
       "        vertical-align: top;\n",
       "    }\n",
       "\n",
       "    .dataframe thead th {\n",
       "        text-align: right;\n",
       "    }\n",
       "</style>\n",
       "<table border=\"1\" class=\"dataframe\">\n",
       "  <thead>\n",
       "    <tr style=\"text-align: right;\">\n",
       "      <th></th>\n",
       "      <th>age</th>\n",
       "      <th>workclass</th>\n",
       "      <th>fnlwgt</th>\n",
       "      <th>education</th>\n",
       "      <th>education_num</th>\n",
       "      <th>marital_status</th>\n",
       "      <th>occupation</th>\n",
       "      <th>relationship</th>\n",
       "      <th>race</th>\n",
       "      <th>sex</th>\n",
       "      <th>capital_gain</th>\n",
       "      <th>capital_loss</th>\n",
       "      <th>hours_per_week</th>\n",
       "      <th>native_country</th>\n",
       "      <th>high_income</th>\n",
       "    </tr>\n",
       "  </thead>\n",
       "  <tbody>\n",
       "    <tr>\n",
       "      <th>0</th>\n",
       "      <td>39</td>\n",
       "      <td>State-gov</td>\n",
       "      <td>77516</td>\n",
       "      <td>Bachelors</td>\n",
       "      <td>13</td>\n",
       "      <td>Never-married</td>\n",
       "      <td>Adm-clerical</td>\n",
       "      <td>Not-in-family</td>\n",
       "      <td>White</td>\n",
       "      <td>Male</td>\n",
       "      <td>2174</td>\n",
       "      <td>0</td>\n",
       "      <td>40</td>\n",
       "      <td>United-States</td>\n",
       "      <td>&lt;=50K</td>\n",
       "    </tr>\n",
       "    <tr>\n",
       "      <th>1</th>\n",
       "      <td>50</td>\n",
       "      <td>Self-emp-not-inc</td>\n",
       "      <td>83311</td>\n",
       "      <td>Bachelors</td>\n",
       "      <td>13</td>\n",
       "      <td>Married-civ-spouse</td>\n",
       "      <td>Exec-managerial</td>\n",
       "      <td>Husband</td>\n",
       "      <td>White</td>\n",
       "      <td>Male</td>\n",
       "      <td>0</td>\n",
       "      <td>0</td>\n",
       "      <td>13</td>\n",
       "      <td>United-States</td>\n",
       "      <td>&lt;=50K</td>\n",
       "    </tr>\n",
       "    <tr>\n",
       "      <th>2</th>\n",
       "      <td>38</td>\n",
       "      <td>Private</td>\n",
       "      <td>215646</td>\n",
       "      <td>HS-grad</td>\n",
       "      <td>9</td>\n",
       "      <td>Divorced</td>\n",
       "      <td>Handlers-cleaners</td>\n",
       "      <td>Not-in-family</td>\n",
       "      <td>White</td>\n",
       "      <td>Male</td>\n",
       "      <td>0</td>\n",
       "      <td>0</td>\n",
       "      <td>40</td>\n",
       "      <td>United-States</td>\n",
       "      <td>&lt;=50K</td>\n",
       "    </tr>\n",
       "  </tbody>\n",
       "</table>\n",
       "</div>"
      ],
      "text/plain": [
       "   age          workclass  fnlwgt   education  education_num  \\\n",
       "0   39          State-gov   77516   Bachelors             13   \n",
       "1   50   Self-emp-not-inc   83311   Bachelors             13   \n",
       "2   38            Private  215646     HS-grad              9   \n",
       "\n",
       "        marital_status          occupation    relationship    race    sex  \\\n",
       "0        Never-married        Adm-clerical   Not-in-family   White   Male   \n",
       "1   Married-civ-spouse     Exec-managerial         Husband   White   Male   \n",
       "2             Divorced   Handlers-cleaners   Not-in-family   White   Male   \n",
       "\n",
       "   capital_gain  capital_loss  hours_per_week  native_country high_income  \n",
       "0          2174             0              40   United-States       <=50K  \n",
       "1             0             0              13   United-States       <=50K  \n",
       "2             0             0              40   United-States       <=50K  "
      ]
     },
     "execution_count": 103,
     "metadata": {},
     "output_type": "execute_result"
    }
   ],
   "source": [
    "income.head(3)"
   ]
  },
  {
   "cell_type": "code",
   "execution_count": 104,
   "metadata": {},
   "outputs": [
    {
     "data": {
      "text/plain": [
       " Male      21790\n",
       " Female    10771\n",
       "Name: sex, dtype: int64"
      ]
     },
     "execution_count": 104,
     "metadata": {},
     "output_type": "execute_result"
    }
   ],
   "source": [
    "income['sex'].value_counts()"
   ]
  },
  {
   "cell_type": "markdown",
   "metadata": {},
   "source": [
    "our observed values were 10771 Females, and 21790 Males. Our expected values were 16280.5 Females and 16280.5 Males.\n",
    "\n",
    "- Compute the proportional difference in number of observed Females vs number of expected Females. Assign the result to female_diff.\n",
    "- Compute the proportional difference in number of observed Males vs number of expected Males. Assign the result to male_diff.\n"
   ]
  },
  {
   "cell_type": "code",
   "execution_count": 105,
   "metadata": {},
   "outputs": [],
   "source": [
    "female_diff = (10771 - 16280.5) / 16280.5\n",
    "male_diff = (21790 - 16280.5) / 16280.5"
   ]
  },
  {
   "cell_type": "code",
   "execution_count": 106,
   "metadata": {},
   "outputs": [
    {
     "name": "stdout",
     "output_type": "stream",
     "text": [
      "-0.33841098246368356 0.33841098246368356\n"
     ]
    }
   ],
   "source": [
    "print (female_diff,male_diff)"
   ]
  },
  {
   "attachments": {
    "image.png": {
     "image/png": "[encoded data removed]"
    }
   },
   "cell_type": "markdown",
   "metadata": {},
   "source": [
    "### Updating the fomula\n",
    "In the last screen, we got -0.338 for the Female difference, and 0.338 for the Male difference. These are great for finding individual differences for each category, but since both values add up to 0, they don't give us a meaningful measure of how our overall observed counts deviate from the expected counts.\n",
    "\n",
    "What we really want to find is one number that can tell us how much all of our observed counts deviate from all of their expected counterparts. This will let us figure out if our difference in counts is statistically significant. We can get one step closer to this by squaring the top term in our difference formula:\n",
    "\n",
    "![image.png](attachment:image.png)\n",
    "\n",
    "Squaring the difference will ensure that all the differences don't sum to zero (you can't have negative squares), giving us a non-zero number we can use to assess statistical significance.\n",
    "\n",
    "We can calulate $\\tilde{\\chi}^2$, the chi square value, by adding up all squared differences between observed and expected values."
   ]
  },
  {
   "cell_type": "code",
   "execution_count": 107,
   "metadata": {},
   "outputs": [],
   "source": [
    "female_diff = (10771 - 16280.5) ** 2 / 16280.5\n",
    "male_diff = (21790 - 16280.5) ** 2 / 16280.5\n",
    "gender_chisq = female_diff + male_diff"
   ]
  },
  {
   "cell_type": "code",
   "execution_count": 108,
   "metadata": {},
   "outputs": [
    {
     "data": {
      "text/plain": [
       "3728.950615767329"
      ]
     },
     "execution_count": 108,
     "metadata": {},
     "output_type": "execute_result"
    }
   ],
   "source": [
    "gender_chisq"
   ]
  },
  {
   "cell_type": "markdown",
   "metadata": {},
   "source": [
    "### Generating a distribution"
   ]
  },
  {
   "cell_type": "code",
   "execution_count": 109,
   "metadata": {},
   "outputs": [
    {
     "data": {
      "text/plain": [
       "(array([739., 140.,  65.,  26.,  16.,   5.,   5.,   2.,   0.,   2.]),\n",
       " array([3.07115875e-05, 1.16161666e+00, 2.32320260e+00, 3.48478855e+00,\n",
       "        4.64637450e+00, 5.80796044e+00, 6.96954639e+00, 8.13113234e+00,\n",
       "        9.29271828e+00, 1.04543042e+01, 1.16158902e+01]),\n",
       " <a list of 10 Patch objects>)"
      ]
     },
     "execution_count": 109,
     "metadata": {},
     "output_type": "execute_result"
    },
    {
     "data": {
      "image/png": "[encoded data removed]",
      "text/plain": [
       "<Figure size 432x288 with 1 Axes>"
      ]
     },
     "metadata": {
      "needs_background": "light"
     },
     "output_type": "display_data"
    }
   ],
   "source": [
    "chi_squared_values = []\n",
    "from numpy.random import random\n",
    "import matplotlib.pyplot as plt\n",
    "\n",
    "for i in range(1000):\n",
    "    sequence = random((32561,))\n",
    "    sequence[sequence < .5] = 0\n",
    "    sequence[sequence >= .5] = 1\n",
    "    male_count = len(sequence[sequence == 0])\n",
    "    female_count = len(sequence[sequence == 1])\n",
    "    male_diff = (male_count - 16280.5) ** 2 / 16280.5\n",
    "    female_diff = (female_count - 16280.5) ** 2 / 16280.5\n",
    "    chi_squared = male_diff + female_diff\n",
    "    chi_squared_values.append(chi_squared)\n",
    "\n",
    "plt.hist(chi_squared_values)"
   ]
  },
  {
   "cell_type": "code",
   "execution_count": null,
   "metadata": {},
   "outputs": [],
   "source": []
  }
 ],
 "metadata": {
  "kernelspec": {
   "display_name": "Python 3",
   "language": "python",
   "name": "python3"
  },
  "language_info": {
   "codemirror_mode": {
    "name": "ipython",
    "version": 3
   },
   "file_extension": ".py",
   "mimetype": "text/x-python",
   "name": "python",
   "nbconvert_exporter": "python",
   "pygments_lexer": "ipython3",
   "version": "3.7.1"
  },
  "varInspector": {
   "cols": {
    "lenName": 16,
    "lenType": 16,
    "lenVar": 40
   },
   "kernels_config": {
    "python": {
     "delete_cmd_postfix": "",
     "delete_cmd_prefix": "del ",
     "library": "var_list.py",
     "varRefreshCmd": "print(var_dic_list())"
    },
    "r": {
     "delete_cmd_postfix": ") ",
     "delete_cmd_prefix": "rm(",
     "library": "var_list.r",
     "varRefreshCmd": "cat(var_dic_list()) "
    }
   },
   "types_to_exclude": [
    "module",
    "function",
    "builtin_function_or_method",
    "instance",
    "_Feature"
   ],
   "window_display": false
  }
 },
 "nbformat": 4,
 "nbformat_minor": 2
}
